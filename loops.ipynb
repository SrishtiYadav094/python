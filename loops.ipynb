{
 "metadata": {
  "language_info": {
   "codemirror_mode": {
    "name": "ipython",
    "version": 3
   },
   "file_extension": ".py",
   "mimetype": "text/x-python",
   "name": "python",
   "nbconvert_exporter": "python",
   "pygments_lexer": "ipython3",
   "version": "3.9.1-final"
  },
  "orig_nbformat": 2,
  "kernelspec": {
   "name": "python3",
   "display_name": "Python 3.9.1 64-bit",
   "metadata": {
    "interpreter": {
     "hash": "c569cd2e17f62341e0f08a54f9a867c3c0d3a6f67454072d7de41a8b5dff8343"
    }
   }
  }
 },
 "nbformat": 4,
 "nbformat_minor": 2,
 "cells": [
  {
   "source": [
    "# loop:\n",
    " - step based Loop \n",
    "       . for\n",
    " - condition based loop \n",
    "       . while\n",
    "\n",
    "\n",
    "\n",
    "\n",
    "\n",
    "\n"
   ],
   "cell_type": "markdown",
   "metadata": {}
  },
  {
   "source": [
    "# for temp_var in iterable:\n",
    "    statement 1\n",
    "    statement 2\n",
    "    ...\n",
    "    statement n"
   ],
   "cell_type": "markdown",
   "metadata": {}
  },
  {
   "cell_type": "code",
   "execution_count": 7,
   "metadata": {},
   "outputs": [
    {
     "output_type": "stream",
     "name": "stdout",
     "text": [
      "[1, 2, 3, 4, 5, 6, 7]\n"
     ]
    }
   ],
   "source": [
    "x= [1,2,3,4,5,6,7]\n",
    "print(x)\n"
   ]
  },
  {
   "cell_type": "code",
   "execution_count": 8,
   "metadata": {},
   "outputs": [
    {
     "output_type": "execute_result",
     "data": {
      "text/plain": [
       "7"
      ]
     },
     "metadata": {},
     "execution_count": 8
    }
   ],
   "source": [
    "x = [1,2,3,4,5,6,7]\n",
    "len(x)"
   ]
  },
  {
   "cell_type": "code",
   "execution_count": 4,
   "metadata": {},
   "outputs": [
    {
     "output_type": "stream",
     "name": "stdout",
     "text": [
      "1\n2\n3\n4\n5\n6\n7\n"
     ]
    }
   ],
   "source": [
    "for i in x:\n",
    "    print(i)\n",
    "\n",
    "\n",
    "\n",
    "\n",
    "\n",
    "\n"
   ]
  },
  {
   "cell_type": "code",
   "execution_count": 5,
   "metadata": {},
   "outputs": [
    {
     "output_type": "stream",
     "name": "stdout",
     "text": [
      "w\ni\nl\nl\ni\na\nm\n"
     ]
    }
   ],
   "source": [
    "name = 'william'\n",
    "for ch in name:\n",
    "    print(ch) "
   ]
  },
  {
   "cell_type": "code",
   "execution_count": 7,
   "metadata": {},
   "outputs": [
    {
     "output_type": "stream",
     "name": "stdout",
     "text": [
      "i like tiger\ni like cat\ni like dog\ni like lion\ni like elephant\ni like cow\n"
     ]
    }
   ],
   "source": [
    "animals = ['tiger','cat','dog','lion','elephant','cow']\n",
    "for animal in animals:\n",
    "    print(f'i like {animal}')"
   ]
  },
  {
   "cell_type": "code",
   "execution_count": 9,
   "metadata": {},
   "outputs": [
    {
     "output_type": "stream",
     "name": "stdout",
     "text": [
      "1\n1\n1\nthe end\n2\n4\n8\nthe end\n3\n9\n27\nthe end\n4\n16\n64\nthe end\n5\n25\n125\nthe end\n6\n36\n216\nthe end\n7\n49\n343\nthe end\n"
     ]
    }
   ],
   "source": [
    "for i in x:\n",
    "    print(i)\n",
    "    print(i**2)\n",
    "    print(i ** 3)\n",
    "    print('the end')"
   ]
  },
  {
   "cell_type": "code",
   "execution_count": 10,
   "metadata": {},
   "outputs": [
    {
     "output_type": "stream",
     "name": "stdout",
     "text": [
      "2\n4\n6\n"
     ]
    }
   ],
   "source": [
    "for i in x:\n",
    "    if i % 2 == 0:\n",
    "        print(i)"
   ]
  },
  {
   "cell_type": "code",
   "execution_count": 11,
   "metadata": {},
   "outputs": [
    {
     "output_type": "stream",
     "name": "stdout",
     "text": [
      "10 x 1 = 10\n10 x 2 = 20\n10 x 3 = 30\n10 x 4 = 40\n10 x 5 = 50\n10 x 6 = 60\n10 x 7 = 70\n"
     ]
    }
   ],
   "source": [
    "for i in x:\n",
    "    print(f'10 x {i} = {10*i}')"
   ]
  },
  {
   "source": [
    "# range function"
   ],
   "cell_type": "markdown",
   "metadata": {}
  },
  {
   "source": [],
   "cell_type": "code",
   "metadata": {},
   "execution_count": null,
   "outputs": []
  },
  {
   "source": [
    "### iterable in python - those items that can be looped in python\n",
    "- string \n",
    "- list\n",
    "- tupple \n",
    "- set \n",
    "- dict \n",
    "- range() - used for specifying the no times a loop should run \n",
    "- so on... "
   ],
   "cell_type": "markdown",
   "metadata": {}
  },
  {
   "cell_type": "code",
   "execution_count": null,
   "metadata": {},
   "outputs": [],
   "source": [
    "-'range(stop)'            -> gives a sequence from 0---> stop - 1\n",
    "- range(start,stop)       -> gives a sequence from start---> stop - 1\n",
    "- range(start,stop,gap)   -> gives a sequence from"
   ]
  },
  {
   "cell_type": "code",
   "execution_count": 17,
   "metadata": {},
   "outputs": [
    {
     "output_type": "stream",
     "name": "stdout",
     "text": [
      "0\n1\n2\n3\n4\n"
     ]
    }
   ],
   "source": [
    "for i in range(5):\n",
    "    print(i)"
   ]
  },
  {
   "cell_type": "code",
   "execution_count": 18,
   "metadata": {},
   "outputs": [
    {
     "output_type": "stream",
     "name": "stdout",
     "text": [
      "5\n6\n7\n8\n9\n10\n"
     ]
    }
   ],
   "source": [
    "for a in range(5,11):\n",
    "    print(a)"
   ]
  },
  {
   "cell_type": "code",
   "execution_count": 19,
   "metadata": {},
   "outputs": [
    {
     "output_type": "stream",
     "name": "stdout",
     "text": [
      "1\n3\n5\n7\n9\n"
     ]
    }
   ],
   "source": [
    "for i in range(1,11,2):\n",
    "    print(i)"
   ]
  },
  {
   "cell_type": "code",
   "execution_count": 23,
   "metadata": {},
   "outputs": [
    {
     "output_type": "stream",
     "name": "stdout",
     "text": [
      "😊\n😊\n😊\n😊\n😊\n😊\n😊\n😊\n😊\n😊\n"
     ]
    }
   ],
   "source": [
    "for i in range(10):\n",
    "    print('😊')"
   ]
  },
  {
   "cell_type": "code",
   "execution_count": 25,
   "metadata": {},
   "outputs": [
    {
     "output_type": "execute_result",
     "data": {
      "text/plain": [
       "'olaolaolaola'"
      ]
     },
     "metadata": {},
     "execution_count": 25
    }
   ],
   "source": [
    "\"ola\" * 4"
   ]
  },
  {
   "cell_type": "code",
   "execution_count": 26,
   "metadata": {},
   "outputs": [
    {
     "output_type": "stream",
     "name": "stdout",
     "text": [
      "10\n9\n8\n7\n6\n5\n4\n3\n2\n1\n"
     ]
    }
   ],
   "source": [
    "for i in range(10,0,-1):\n",
    "    print(i)"
   ]
  },
  {
   "cell_type": "code",
   "execution_count": 27,
   "metadata": {},
   "outputs": [
    {
     "output_type": "stream",
     "name": "stdout",
     "text": [
      "-5\n-4\n-3\n-2\n-1\n0\n1\n2\n3\n4\n"
     ]
    }
   ],
   "source": [
    "for i in range(-5,5):\n",
    "    print(i)"
   ]
  },
  {
   "cell_type": "code",
   "execution_count": 3,
   "metadata": {},
   "outputs": [
    {
     "output_type": "stream",
     "name": "stdout",
     "text": [
      "😘😘😘😘😘😘😘😘😘😘\n😘😘😘😘😘😘😘😘😘\n😘😘😘😘😘😘😘😘\n😘😘😘😘😘😘😘\n😘😘😘😘😘😘\n😘😘😘😘😘\n😘😘😘😘\n😘😘😘\n😘😘\n😘\n"
     ]
    }
   ],
   "source": []
  },
  {
   "cell_type": "code",
   "execution_count": 5,
   "metadata": {},
   "outputs": [
    {
     "output_type": "stream",
     "name": "stdout",
     "text": [
      "😘😘😘😘😘😘😘😘😘\n😘😘😘😘😘😘😘😘\n😘😘😘😘😘😘😘\n😘😘😘😘😘😘\n😘😘😘😘😘\n😘😘😘😘\n😘😘😘\n😘😘\n😘\n"
     ]
    }
   ],
   "source": [
    "for i in range(9,0,-1):\n",
    "    print('😘' * i)"
   ]
  },
  {
   "cell_type": "code",
   "execution_count": 6,
   "metadata": {},
   "outputs": [
    {
     "output_type": "stream",
     "name": "stdout",
     "text": [
      "\n😘\n😘😘\n😘😘😘\n😘😘😘😘\n😘😘😘😘😘\n😘😘😘😘😘😘\n😘😘😘😘😘😘😘\n😘😘😘😘😘😘😘😘\n😘😘😘😘😘😘😘😘😘\n"
     ]
    }
   ],
   "source": [
    "for i in range(10):\n",
    "    print('😘' * i)"
   ]
  },
  {
   "source": [
    "## break and continue \n",
    "* break => stop loop before its completion based on condition \n",
    "* continue => skip a code execution in loop "
   ],
   "cell_type": "markdown",
   "metadata": {}
  },
  {
   "source": [
    "for i in range(10):\n",
    "    num = int(input('enter a value'))\n",
    "    if num > 50:\n",
    "        print(num)\n",
    "    else:\n",
    "        break\n",
    "print('the end')"
   ],
   "cell_type": "code",
   "metadata": {},
   "execution_count": 1,
   "outputs": [
    {
     "output_type": "stream",
     "name": "stdout",
     "text": [
      "90\n",
      "188\n",
      "the end\n"
     ]
    }
   ]
  },
  {
   "source": [
    " # continue"
   ],
   "cell_type": "markdown",
   "metadata": {}
  },
  {
   "cell_type": "code",
   "execution_count": 4,
   "metadata": {},
   "outputs": [
    {
     "output_type": "execute_result",
     "data": {
      "text/plain": [
       "20"
      ]
     },
     "metadata": {},
     "execution_count": 4
    }
   ],
   "source": [
    "nums = [2,3,0,4,5,0,0,0,6,7,8,8,0,0,1,2,31,0,23,19]\n",
    "len(nums)"
   ]
  },
  {
   "cell_type": "code",
   "execution_count": 9,
   "metadata": {},
   "outputs": [
    {
     "output_type": "stream",
     "name": "stdout",
     "text": [
      "original 2\nsquare 4\ncube 8\n----------------------------------------\noriginal 3\nsquare 9\ncube 27\n----------------------------------------\noriginal 4\nsquare 16\ncube 64\n----------------------------------------\noriginal 5\nsquare 25\ncube 125\n----------------------------------------\noriginal 6\nsquare 36\ncube 216\n----------------------------------------\noriginal 7\nsquare 49\ncube 343\n----------------------------------------\noriginal 8\nsquare 64\ncube 512\n----------------------------------------\noriginal 8\nsquare 64\ncube 512\n----------------------------------------\noriginal 1\nsquare 1\ncube 1\n----------------------------------------\noriginal 2\nsquare 4\ncube 8\n----------------------------------------\noriginal 31\nsquare 961\ncube 29791\n----------------------------------------\noriginal 23\nsquare 529\ncube 12167\n----------------------------------------\noriginal 19\nsquare 361\ncube 6859\n----------------------------------------\n"
     ]
    }
   ],
   "source": [
    "for val in nums:\n",
    "    if val == 0:\n",
    "        continue\n",
    "    print('original',val)\n",
    "    print('square',val ** 2)\n",
    "    print('cube',val ** 3)\n",
    "    print('--'* 20)"
   ]
  },
  {
   "source": [
    "# while loop\n",
    "  "
   ],
   "cell_type": "markdown",
   "metadata": {}
  },
  {
   "source": [
    "# while condition :\n",
    "    statement 1\n",
    "    statement 2\n",
    "    ...\n",
    "    statement n"
   ],
   "cell_type": "markdown",
   "metadata": {}
  },
  {
   "cell_type": "code",
   "execution_count": 1,
   "metadata": {},
   "outputs": [
    {
     "output_type": "stream",
     "name": "stdout",
     "text": [
      "312839012\n31283901\n3128390\n312839\n31283\n3128\n312\n31\n3\n"
     ]
    }
   ],
   "source": [
    "i = 312839012\n",
    "while i > 0:\n",
    "    print(i)\n",
    "    i = i // 10"
   ]
  },
  {
   "cell_type": "code",
   "execution_count": 15,
   "metadata": {},
   "outputs": [
    {
     "output_type": "stream",
     "name": "stdout",
     "text": [
      " i 10\n i 10\n i 10\n i 10\n i 10\n i 10\n i 10\n i 10\n i 10\n"
     ]
    }
   ],
   "source": [
    "i = 312839012\n",
    "while i > 0:\n",
    "    print(f' i {10}')\n",
    "    i = i // 10"
   ]
  },
  {
   "cell_type": "code",
   "execution_count": 1,
   "metadata": {},
   "outputs": [
    {
     "output_type": "stream",
     "name": "stdout",
     "text": [
      "annant se bhi aage\n"
     ]
    }
   ],
   "source": [
    "while True:\n",
    "    print('annant se bhi aage')\n",
    "    break\n"
   ]
  },
  {
   "cell_type": "code",
   "execution_count": 5,
   "metadata": {},
   "outputs": [
    {
     "output_type": "stream",
     "name": "stdout",
     "text": [
      "welcome Mr Zorro\n"
     ]
    }
   ],
   "source": [
    "while True:\n",
    "    email = input('enter email addr')\n",
    "    password = input('enter password')\n",
    "\n",
    "    if email == 'zorro@gmail.com' and password == 'lalala':\n",
    "        print('welcome Mr Zorro')\n",
    "        break\n",
    "    else:\n",
    "        print('try again')\n",
    "\n"
   ]
  },
  {
   "cell_type": "code",
   "execution_count": 4,
   "metadata": {},
   "outputs": [
    {
     "output_type": "stream",
     "name": "stdout",
     "text": [
      "Calculator Menu\n",
      "ADD\tSUB\tDIV\tEXIT\n",
      "~~~~~~~~~~~~~~~~~~~~~~~~~~~~~~~~~~~~~~~~~~~~~~~~~~~~~~~~~~~~\n",
      ">>\n",
      "1 + 1 = 2\n",
      "~~~~~~~~~~~~~~~~~~~~~~~~~~~~~~~~~~~~~~~~~~~~~~~~~~~~~~~~~~~~\n",
      "Calculator Menu\n",
      "ADD\tSUB\tDIV\tEXIT\n",
      "~~~~~~~~~~~~~~~~~~~~~~~~~~~~~~~~~~~~~~~~~~~~~~~~~~~~~~~~~~~~\n",
      ">>\n",
      "2 - 1 = 1\n",
      "~~~~~~~~~~~~~~~~~~~~~~~~~~~~~~~~~~~~~~~~~~~~~~~~~~~~~~~~~~~~\n",
      "Calculator Menu\n",
      "ADD\tSUB\tDIV\tEXIT\n",
      "~~~~~~~~~~~~~~~~~~~~~~~~~~~~~~~~~~~~~~~~~~~~~~~~~~~~~~~~~~~~\n",
      ">>\n",
      "calc closed\n"
     ]
    }
   ],
   "source": [
    "while True:\n",
    "    print('Calculator Menu')\n",
    "    print('ADD\\tSUB\\tDIV\\tEXIT')\n",
    "    print('--'*20)\n",
    "    print('>>')\n",
    "    ch = input('select option >>')\n",
    "    if ch.lower() == 'add':\n",
    "        x = int(input('enter A:'))\n",
    "        y = int(input('enter B:'))\n",
    "        print(f'{x} + {y} = {x+y}')\n",
    "        print('~~~'*20)\n",
    "    elif ch.lower() == 'sub': \n",
    "         x = int(input('enter A:'))\n",
    "         y = int(input('enter B:'))\n",
    "         print(f'{x} - {y} = {x-y}')\n",
    "         print('~~~'*20)\n",
    "    elif ch.lower() == 'exit':\n",
    "        print('calc closed')\n",
    "        break       "
   ]
  },
  {
   "cell_type": "code",
   "execution_count": 6,
   "metadata": {},
   "outputs": [
    {
     "output_type": "execute_result",
     "data": {
      "text/plain": [
       "'rakesh'"
      ]
     },
     "metadata": {},
     "execution_count": 6
    }
   ],
   "source": [
    "'Rakesh'.lower()"
   ]
  },
  {
   "cell_type": "code",
   "execution_count": 7,
   "metadata": {},
   "outputs": [
    {
     "output_type": "execute_result",
     "data": {
      "text/plain": [
       "'KRISHN'"
      ]
     },
     "metadata": {},
     "execution_count": 7
    }
   ],
   "source": [
    "'krishn' .upper()"
   ]
  },
  {
   "cell_type": "code",
   "execution_count": 8,
   "metadata": {},
   "outputs": [
    {
     "output_type": "execute_result",
     "data": {
      "text/plain": [
       "'RADHEKRISHN'"
      ]
     },
     "metadata": {},
     "execution_count": 8
    }
   ],
   "source": [
    "'radhekrishn' .upper()"
   ]
  },
  {
   "source": [
    "# wap to make a program that takes lines from the user to store in a var_poem. the user any no lines"
   ],
   "cell_type": "markdown",
   "metadata": {}
  },
  {
   "cell_type": "code",
   "execution_count": 12,
   "metadata": {},
   "outputs": [
    {
     "output_type": "stream",
     "name": "stdout",
     "text": [
      "enter ur poem >>\n",
      "your poem is\n",
      "ba ba black sheep \n",
      "have u any wool\n",
      "yes sir yes sir\n",
      "3 bags full\n",
      "\n"
     ]
    }
   ],
   "source": [
    "poem = ''\n",
    "print('enter ur poem >>')\n",
    "while True:\n",
    "    line = input('>>')\n",
    "    if line:             #if line has something\n",
    "        poem += line +'\\n'\n",
    "    else:            \n",
    "        break\n",
    "print('your poem is')\n",
    "print(poem)"
   ]
  },
  {
   "cell_type": "code",
   "execution_count": 13,
   "metadata": {},
   "outputs": [
    {
     "output_type": "execute_result",
     "data": {
      "text/plain": [
       "'ba ba black sheep \\nhave u any wool\\nyes sir yes sir\\n3 bags full\\n'"
      ]
     },
     "metadata": {},
     "execution_count": 13
    }
   ],
   "source": [
    "poem\n"
   ]
  },
  {
   "cell_type": "code",
   "execution_count": 14,
   "metadata": {},
   "outputs": [
    {
     "output_type": "stream",
     "name": "stdout",
     "text": [
      "enter ur poem >>\n",
      "your poem is\n",
      "bandr bhaiya pahan pajama \n",
      "dawat khane aaye\n",
      "dheela kurtav topi juta\n",
      "pahan bahut etraye\n",
      "rasguule pe jii lalchaya\n",
      "muh m rakhha gapp se\n",
      "naram naram tha garam garam tha\n",
      "jibh jal gai lapp se\n",
      "bandr bhaiya rote rote\n",
      "vaps ghr ko aaye\n",
      "fenki topi fenka juta \n",
      "roye aur pachhtaye\n",
      "\n"
     ]
    }
   ],
   "source": [
    "poem = ''\n",
    "print('enter ur poem >>')\n",
    "while True:\n",
    "    line = input('>>')\n",
    "    if line:             #if line has something\n",
    "        poem += line +'\\n'\n",
    "    else:            \n",
    "        break\n",
    "print('your poem is')\n",
    "print(poem)"
   ]
  },
  {
   "cell_type": "code",
   "execution_count": null,
   "metadata": {},
   "outputs": [],
   "source": []
  }
 ]
}