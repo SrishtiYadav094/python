{
 "metadata": {
  "language_info": {
   "codemirror_mode": {
    "name": "ipython",
    "version": 3
   },
   "file_extension": ".py",
   "mimetype": "text/x-python",
   "name": "python",
   "nbconvert_exporter": "python",
   "pygments_lexer": "ipython3",
   "version": "3.9.1-final"
  },
  "orig_nbformat": 2,
  "kernelspec": {
   "name": "python3",
   "display_name": "Python 3.9.1 64-bit",
   "metadata": {
    "interpreter": {
     "hash": "c569cd2e17f62341e0f08a54f9a867c3c0d3a6f67454072d7de41a8b5dff8343"
    }
   }
  }
 },
 "nbformat": 4,
 "nbformat_minor": 2,
 "cells": [
  {
   "cell_type": "code",
   "execution_count": 1,
   "metadata": {},
   "outputs": [
    {
     "output_type": "stream",
     "name": "stdout",
     "text": [
      "hurray\n"
     ]
    }
   ],
   "source": [
    "a = 120\n",
    "if a > 100:\n",
    "    print('hurray')"
   ]
  },
  {
   "cell_type": "code",
   "execution_count": 2,
   "metadata": {},
   "outputs": [],
   "source": [
    "if a == 121:\n",
    "    print('amazing')\n",
    "    print('this block wont run')"
   ]
  },
  {
   "cell_type": "code",
   "execution_count": 3,
   "metadata": {},
   "outputs": [
    {
     "output_type": "stream",
     "name": "stdout",
     "text": [
      "a is smallest\n"
     ]
    }
   ],
   "source": [
    "a =10\n",
    "b =20\n",
    "c =30\n",
    "if a < b and a<c:\n",
    "    print('a is smallest')"
   ]
  },
  {
   "cell_type": "code",
   "execution_count": 12,
   "metadata": {},
   "outputs": [
    {
     "output_type": "stream",
     "name": "stdout",
     "text": [
      "welcome ben 10\n"
     ]
    }
   ],
   "source": [
    "username = input('enter username')\n",
    "password = input('enter password')\n",
    "if username =='Ben' and password =='omitrix':\n",
    "    print('welcome ben 10')"
   ]
  },
  {
   "cell_type": "code",
   "execution_count": 6,
   "metadata": {},
   "outputs": [
    {
     "output_type": "stream",
     "name": "stdout",
     "text": [
      "you are an adult person\nyou are an old too\n"
     ]
    }
   ],
   "source": [
    "age = 30\n",
    "if age > 25:\n",
    "    print('you are an adult person')\n",
    "if age > 50:\n",
    "    print('you are an old person')\n",
    "if age == 30:\n",
    "    print('you are an old too')"
   ]
  },
  {
   "cell_type": "code",
   "execution_count": 10,
   "metadata": {},
   "outputs": [
    {
     "output_type": "stream",
     "name": "stdout",
     "text": [
      "you are welcome\n"
     ]
    }
   ],
   "source": [
    "firstname = 'Vijay'\n",
    "lastname = 'chauhan'\n",
    "if firstname.startswith('V'):\n",
    "    if lastname.startswith('c'):\n",
    "        print('you are welcome')"
   ]
  },
  {
   "cell_type": "code",
   "execution_count": 16,
   "metadata": {},
   "outputs": [
    {
     "output_type": "stream",
     "name": "stdout",
     "text": [
      "you are the choosen one\n"
     ]
    }
   ],
   "source": [
    "fav_color = input('enter fav_color')\n",
    "if fav_color in ['red','yellow','orange']:\n",
    "    fav_fruit = input('enter your fav fruit')\n",
    "    if fav_fruit.startswith('o'):\n",
    "        print('you are the choosen one')"
   ]
  },
  {
   "cell_type": "code",
   "execution_count": 21,
   "metadata": {},
   "outputs": [
    {
     "output_type": "stream",
     "name": "stdout",
     "text": [
      "pocketmoney: 799\n"
     ]
    }
   ],
   "source": [
    "pocketmoney = int(input('enter pocket money'))\n",
    "if pocketmoney > 1000:\n",
    "    pocketmoney = pocketmoney - 500\n",
    "if pocketmoney < 600:\n",
    "    pocketmoney = pocketmoney + 200\n",
    "print('pocketmoney:',pocketmoney)\n"
   ]
  },
  {
   "cell_type": "code",
   "execution_count": 22,
   "metadata": {},
   "outputs": [
    {
     "output_type": "stream",
     "name": "stdout",
     "text": [
      "pocketmoney: 701\n"
     ]
    }
   ],
   "source": [
    "pocketmoney = int(input('enter pocket money'))\n",
    "if pocketmoney > 1000:\n",
    "    pocketmoney = pocketmoney - 500\n",
    "if pocketmoney < 600:\n",
    "    pocketmoney = pocketmoney + 200\n",
    "print('pocketmoney:',pocketmoney)\n"
   ]
  },
  {
   "source": [
    "# if else condition"
   ],
   "cell_type": "markdown",
   "metadata": {}
  },
  {
   "cell_type": "code",
   "execution_count": 24,
   "metadata": {},
   "outputs": [
    {
     "output_type": "stream",
     "name": "stdout",
     "text": [
      "its true\n"
     ]
    }
   ],
   "source": [
    "a = 40\n",
    "if a>=30:\n",
    "    print('its true')\n",
    "else:\n",
    "    print('nothing true') "
   ]
  },
  {
   "cell_type": "code",
   "execution_count": 25,
   "metadata": {},
   "outputs": [
    {
     "output_type": "stream",
     "name": "stdout",
     "text": [
      "nothing true\n"
     ]
    }
   ],
   "source": [
    "a = 20\n",
    "if a>=30:\n",
    "    print('its true')\n",
    "else:\n",
    "    print('nothing true') "
   ]
  },
  {
   "cell_type": "code",
   "execution_count": 28,
   "metadata": {},
   "outputs": [
    {
     "output_type": "stream",
     "name": "stdout",
     "text": [
      "your name is vowelly\n"
     ]
    }
   ],
   "source": [
    "nm = input('enter your name')\n",
    "if nm.startswith('a') or nm.startswith('i'):\n",
    "    print('your name is vowelly')\n",
    "else:\n",
    "    print('your name is constantly')"
   ]
  },
  {
   "cell_type": "code",
   "execution_count": 29,
   "metadata": {},
   "outputs": [
    {
     "output_type": "stream",
     "name": "stdout",
     "text": [
      "your name is vowelly\n"
     ]
    }
   ],
   "source": [
    "nm = input('enter your name')\n",
    "if nm.startswith('a') or nm.startswith('i'):\n",
    "    print('your name is vowelly')\n",
    "else:\n",
    "    print('your name is constantly')"
   ]
  },
  {
   "cell_type": "code",
   "execution_count": 30,
   "metadata": {},
   "outputs": [
    {
     "output_type": "stream",
     "name": "stdout",
     "text": [
      "your name is constantly\n"
     ]
    }
   ],
   "source": [
    "nm = input('enter your name')\n",
    "if nm.startswith('a') or nm.startswith('i'):\n",
    "    print('your name is vowelly')\n",
    "else:\n",
    "    print('your name is constantly')"
   ]
  },
  {
   "cell_type": "code",
   "execution_count": 31,
   "metadata": {},
   "outputs": [
    {
     "output_type": "stream",
     "name": "stdout",
     "text": [
      "true\n"
     ]
    }
   ],
   "source": [
    "string='in keyword finds the occurence of an element'\n",
    "if 'the' in string:\n",
    "    print ('true')\n",
    "    "
   ]
  },
  {
   "cell_type": "code",
   "execution_count": null,
   "metadata": {},
   "outputs": [],
   "source": [
    "a=30\n",
    "b=40\n",
    "if a is 50:\n",
    "    print('a is 50')\n",
    "elif b is not 10:\n",
    "    print('b is not 10')\n",
    "else:\n",
    "    print('')"
   ]
  },
  {
   "cell_type": "code",
   "execution_count": 33,
   "metadata": {},
   "outputs": [
    {
     "output_type": "stream",
     "name": "stdout",
     "text": [
      "you won the prize\n"
     ]
    }
   ],
   "source": [
    "answer = 'naruto'\n",
    "question = 'who is the father of boruto'\n",
    "response = input(question)\n",
    "if response == answer:\n",
    "    print('you won the prize')\n",
    "elif response != 'sasuke':\n",
    "    print('you have not been reading the chapter')\n",
    "elif response == 'hinata':\n",
    "    print('you do not understand the question')\n",
    "else:\n",
    "    print('you gave wrong answer')\n"
   ]
  },
  {
   "cell_type": "code",
   "execution_count": null,
   "metadata": {},
   "outputs": [],
   "source": []
  }
 ]
}