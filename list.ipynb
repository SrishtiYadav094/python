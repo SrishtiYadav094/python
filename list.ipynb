{
 "metadata": {
  "language_info": {
   "codemirror_mode": {
    "name": "ipython",
    "version": 3
   },
   "file_extension": ".py",
   "mimetype": "text/x-python",
   "name": "python",
   "nbconvert_exporter": "python",
   "pygments_lexer": "ipython3",
   "version": "3.9.1-final"
  },
  "orig_nbformat": 2,
  "kernelspec": {
   "name": "python3",
   "display_name": "Python 3.9.1 64-bit",
   "metadata": {
    "interpreter": {
     "hash": "c569cd2e17f62341e0f08a54f9a867c3c0d3a6f67454072d7de41a8b5dff8343"
    }
   }
  }
 },
 "nbformat": 4,
 "nbformat_minor": 2,
 "cells": [
  {
   "source": [
    "## wap to store 10 movies entered by the user in a list "
   ],
   "cell_type": "markdown",
   "metadata": {}
  },
  {
   "cell_type": "code",
   "execution_count": 10,
   "metadata": {},
   "outputs": [],
   "source": [
    "movies = []\n",
    "for i in range(5):\n",
    "    name = input('enter movie name =>')\n",
    "    movies.append(name)\n",
    "    "
   ]
  },
  {
   "cell_type": "code",
   "execution_count": 11,
   "metadata": {},
   "outputs": [
    {
     "output_type": "execute_result",
     "data": {
      "text/plain": [
       "['harry potter', 'avanger', 'bahubali', 'avanger 2', 'war']"
      ]
     },
     "metadata": {},
     "execution_count": 11
    }
   ],
   "source": [
    "movies"
   ]
  },
  {
   "source": [
    "## wap to store 100 even numbers in lists"
   ],
   "cell_type": "markdown",
   "metadata": {}
  },
  {
   "cell_type": "code",
   "execution_count": 17,
   "metadata": {},
   "outputs": [
    {
     "output_type": "stream",
     "name": "stdout",
     "text": [
      "[2, 4, 6, 8, 10, 12, 14, 16, 18, 20, 22, 24, 26, 28, 30, 32, 34, 36, 38, 40, 42, 44, 46, 48, 50, 52, 54, 56, 58, 60, 62, 64, 66, 68, 70, 72, 74, 76, 78, 80, 82, 84, 86, 88, 90, 92, 94, 96, 98, 100, 102, 104, 106, 108, 110, 112, 114, 116, 118, 120, 122, 124, 126, 128, 130, 132, 134, 136, 138, 140, 142, 144, 146, 148, 150, 152, 154, 156, 158, 160, 162, 164, 166, 168, 170, 172, 174, 176, 178, 180, 182, 184, 186, 188, 190, 192, 194, 196, 198, 200]\n"
     ]
    }
   ],
   "source": [
    "numbers = list(range(2,201,2))\n",
    "print(numbers)"
   ]
  },
  {
   "cell_type": "code",
   "execution_count": 18,
   "metadata": {},
   "outputs": [
    {
     "output_type": "stream",
     "name": "stdout",
     "text": [
      "[2, 4, 6, 8, 10, 12, 14, 16, 18, 20, 22, 24, 26, 28, 30, 32, 34, 36, 38, 40, 42, 44, 46, 48, 50, 52, 54, 56, 58, 60, 62, 64, 66, 68, 70, 72, 74, 76, 78, 80, 82, 84, 86, 88, 90, 92, 94, 96, 98, 100, 102, 104, 106, 108, 110, 112, 114, 116, 118, 120, 122, 124, 126, 128, 130, 132, 134, 136, 138, 140, 142, 144, 146, 148, 150, 152, 154, 156, 158, 160, 162, 164, 166, 168, 170, 172, 174, 176, 178, 180, 182, 184, 186, 188, 190, 192, 194, 196, 198, 200]\n"
     ]
    }
   ],
   "source": [
    "evens = list(range(2,201,2))\n",
    "print(evens)"
   ]
  },
  {
   "source": [
    "# wap to print all the odd numbers in the lists given below\n",
    "- a = [12,3,54,32,6,7,8,879,34,23,2,4,31]\n"
   ],
   "cell_type": "markdown",
   "metadata": {}
  },
  {
   "cell_type": "code",
   "execution_count": 19,
   "metadata": {},
   "outputs": [
    {
     "output_type": "stream",
     "name": "stdout",
     "text": [
      "3\n7\n879\n23\n31\n"
     ]
    }
   ],
   "source": [
    "a = [12,3,54,32,6,7,8,879,34,23,2,4,31]\n",
    "for i in a:\n",
    "    if i % 2!=0:\n",
    "        print(i)\n"
   ]
  },
  {
   "source": [
    "# wap to store all the odd numbers into a new list from the list given below\n",
    "a = 12,3,54,32,6,7,8,879,34,23,2,4,31"
   ],
   "cell_type": "markdown",
   "metadata": {}
  },
  {
   "cell_type": "code",
   "execution_count": 21,
   "metadata": {},
   "outputs": [],
   "source": [
    "odds = []\n",
    "for i in a:\n",
    "    if i % 2!=0:\n",
    "        odds.append(i)"
   ]
  },
  {
   "cell_type": "code",
   "execution_count": 22,
   "metadata": {},
   "outputs": [
    {
     "output_type": "execute_result",
     "data": {
      "text/plain": [
       "[3, 7, 879, 23, 31]"
      ]
     },
     "metadata": {},
     "execution_count": 22
    }
   ],
   "source": [
    "odds"
   ]
  },
  {
   "source": [
    "## frontend > streamlit\n",
    "## backend > python & sqlite"
   ],
   "cell_type": "markdown",
   "metadata": {}
  },
  {
   "source": [
    "# write a program to store 10 prime numbers in a list "
   ],
   "cell_type": "markdown",
   "metadata": {}
  },
  {
   "cell_type": "code",
   "execution_count": 3,
   "metadata": {},
   "outputs": [
    {
     "output_type": "stream",
     "name": "stdout",
     "text": [
      "not prime\n"
     ]
    }
   ],
   "source": [
    "# basic prime code\n",
    "num = 91203\n",
    "for i in range(2, num):\n",
    "    if num % i == 0:\n",
    "        print('not prime')\n",
    "        break\n",
    "else:\n",
    "    print(f'{num} is prime')    "
   ]
  },
  {
   "cell_type": "code",
   "execution_count": 4,
   "metadata": {},
   "outputs": [
    {
     "output_type": "stream",
     "name": "stdout",
     "text": [
      "13 is prime\n"
     ]
    }
   ],
   "source": [
    "num = 13\n",
    "for i in range(2, num):\n",
    "    if num % i == 0:\n",
    "        print('not prime')\n",
    "        break\n",
    "else:\n",
    "    print(f'{num} is prime')    "
   ]
  },
  {
   "cell_type": "code",
   "execution_count": 5,
   "metadata": {},
   "outputs": [
    {
     "output_type": "stream",
     "name": "stdout",
     "text": [
      "[] 0 2\n[2] 1 3\n[2, 3] 2 4\n[2, 3] 2 5\n[2, 3, 5] 3 6\n[2, 3, 5] 3 7\n[2, 3, 5, 7] 4 8\n[2, 3, 5, 7] 4 9\n[2, 3, 5, 7] 4 10\n[2, 3, 5, 7] 4 11\n[2, 3, 5, 7, 11] 5 12\n[2, 3, 5, 7, 11] 5 13\n[2, 3, 5, 7, 11, 13] 6 14\n[2, 3, 5, 7, 11, 13] 6 15\n[2, 3, 5, 7, 11, 13] 6 16\n[2, 3, 5, 7, 11, 13] 6 17\n[2, 3, 5, 7, 11, 13, 17] 7 18\n[2, 3, 5, 7, 11, 13, 17] 7 19\n[2, 3, 5, 7, 11, 13, 17, 19] 8 20\n[2, 3, 5, 7, 11, 13, 17, 19] 8 21\n[2, 3, 5, 7, 11, 13, 17, 19] 8 22\n[2, 3, 5, 7, 11, 13, 17, 19] 8 23\n[2, 3, 5, 7, 11, 13, 17, 19, 23] 9 24\n[2, 3, 5, 7, 11, 13, 17, 19, 23] 9 25\n[2, 3, 5, 7, 11, 13, 17, 19, 23] 9 26\n[2, 3, 5, 7, 11, 13, 17, 19, 23] 9 27\n[2, 3, 5, 7, 11, 13, 17, 19, 23] 9 28\n[2, 3, 5, 7, 11, 13, 17, 19, 23] 9 29\n"
     ]
    }
   ],
   "source": [
    "primes = []                                 # blank list\n",
    "num = 2                                     # start pos              \n",
    "while len(primes) < 10:\n",
    "    print(primes, len(primes),num)          # if list has less than 30 values \n",
    "    for i in range(2,num):                  # loop the will run from 2 to num-1 value \n",
    "        if num % i == 0:                    # if i divides the num completely\n",
    "            break                           # skip that num\n",
    "    else:                                   # if the loop does not back \n",
    "        primes.append(num)                  # add it to list\n",
    "    num += 1                                # add 1 to change number to next "
   ]
  },
  {
   "cell_type": "code",
   "execution_count": 6,
   "metadata": {},
   "outputs": [
    {
     "output_type": "execute_result",
     "data": {
      "text/plain": [
       "[2, 3, 5, 7, 11, 13, 17, 19, 23, 29]"
      ]
     },
     "metadata": {},
     "execution_count": 6
    }
   ],
   "source": [
    "primes"
   ]
  },
  {
   "cell_type": "code",
   "execution_count": null,
   "metadata": {},
   "outputs": [],
   "source": [
    "# filter and store "
   ]
  },
  {
   "cell_type": "code",
   "execution_count": 7,
   "metadata": {},
   "outputs": [],
   "source": [
    "flowers = ['sunflower','rose','iris','chrysanthemum','lotus','lily','tulip','orchid','acacia']"
   ]
  },
  {
   "cell_type": "code",
   "execution_count": 9,
   "metadata": {},
   "outputs": [
    {
     "output_type": "stream",
     "name": "stdout",
     "text": [
      "sunflower\nrose\nlotus\norchid\n"
     ]
    }
   ],
   "source": [
    "for item in flowers:\n",
    "    if 'o' in item:\n",
    "        print(item)"
   ]
  },
  {
   "cell_type": "code",
   "execution_count": 10,
   "metadata": {},
   "outputs": [
    {
     "output_type": "stream",
     "name": "stdout",
     "text": [
      "sunflower\nrose\niris\nchrysanthemum\nlotus\nlily\ntulip\norchid\nacacia\n"
     ]
    }
   ],
   "source": [
    "for item in flowers:\n",
    "    print(item)"
   ]
  },
  {
   "cell_type": "code",
   "execution_count": 12,
   "metadata": {},
   "outputs": [
    {
     "output_type": "execute_result",
     "data": {
      "text/plain": [
       "['sunflower', 'rose', 'lotus', 'orchid']"
      ]
     },
     "metadata": {},
     "execution_count": 12
    }
   ],
   "source": [
    "flowers_o = []                                   # condition based list is reduction\n",
    "for item in flowers:                             # without condition list is mapping \n",
    "    if 'o' in item:\n",
    "        flowers_o.append(item)\n",
    "flowers_o        \n",
    "        \n"
   ]
  },
  {
   "cell_type": "code",
   "execution_count": 13,
   "metadata": {},
   "outputs": [
    {
     "output_type": "execute_result",
     "data": {
      "text/plain": [
       "['sunflower', 'rose', 'chrysanthemum']"
      ]
     },
     "metadata": {},
     "execution_count": 13
    }
   ],
   "source": [
    "flowers_e = [item for item in flowers  if 'e' in item]\n",
    "flowers_e"
   ]
  },
  {
   "cell_type": "code",
   "execution_count": 14,
   "metadata": {},
   "outputs": [],
   "source": [
    "x = [2,3,4,5,6,65]\n"
   ]
  },
  {
   "cell_type": "code",
   "execution_count": 15,
   "metadata": {},
   "outputs": [],
   "source": [
    "x2 = []\n",
    "for i in x:\n",
    "    sqr = i**2\n",
    "    x2.append(sqr)"
   ]
  },
  {
   "cell_type": "code",
   "execution_count": 16,
   "metadata": {},
   "outputs": [
    {
     "output_type": "execute_result",
     "data": {
      "text/plain": [
       "[4, 9, 16, 25, 36, 4225]"
      ]
     },
     "metadata": {},
     "execution_count": 16
    }
   ],
   "source": [
    "x2"
   ]
  },
  {
   "cell_type": "code",
   "execution_count": 17,
   "metadata": {},
   "outputs": [
    {
     "output_type": "execute_result",
     "data": {
      "text/plain": [
       "[8, 27, 64, 125, 216, 274625]"
      ]
     },
     "metadata": {},
     "execution_count": 17
    }
   ],
   "source": [
    "x3 = [i**3 for i in x]\n",
    "x3"
   ]
  },
  {
   "cell_type": "code",
   "execution_count": null,
   "metadata": {},
   "outputs": [],
   "source": []
  }
 ]
}