{
 "metadata": {
  "language_info": {
   "codemirror_mode": {
    "name": "ipython",
    "version": 3
   },
   "file_extension": ".py",
   "mimetype": "text/x-python",
   "name": "python",
   "nbconvert_exporter": "python",
   "pygments_lexer": "ipython3",
   "version": "3.9.1"
  },
  "orig_nbformat": 2,
  "kernelspec": {
   "name": "python3",
   "display_name": "Python 3.9.1 64-bit",
   "metadata": {
    "interpreter": {
     "hash": "c569cd2e17f62341e0f08a54f9a867c3c0d3a6f67454072d7de41a8b5dff8343"
    }
   }
  }
 },
 "nbformat": 4,
 "nbformat_minor": 2,
 "cells": [
  {
   "source": [
    "#  String property\n",
    "- indexed, ordered\n",
    "- immutable - dont change during code execution\n",
    "- str() - convert data to string datatype\n",
    "- can be wrapped in '',\"\",''',''',\n",
    "- triple quoted string can also be used in documentation"
   ],
   "cell_type": "markdown",
   "metadata": {}
  },
  {
   "cell_type": "code",
   "execution_count": 6,
   "metadata": {},
   "outputs": [],
   "source": [
    "flower = 'chrysanthemum'\n",
    "name = 'vijay dinanath chauhan'\n",
    "quote = '''life before death,\n",
    "hope before despair,\n",
    "journey before destination'''"
   ]
  },
  {
   "cell_type": "code",
   "execution_count": 7,
   "metadata": {},
   "outputs": [
    {
     "output_type": "stream",
     "name": "stdout",
     "text": [
      "chrysanthemum\n"
     ]
    }
   ],
   "source": [
    "print(flower)"
   ]
  },
  {
   "cell_type": "code",
   "execution_count": 14,
   "metadata": {},
   "outputs": [
    {
     "output_type": "stream",
     "name": "stdout",
     "text": [
      "life before death,\nhope before despair,\njourney before destination\n"
     ]
    }
   ],
   "source": [
    "print(quote)"
   ]
  },
  {
   "source": [
    "# create,indexing,slicing,functions"
   ],
   "cell_type": "markdown",
   "metadata": {}
  },
  {
   "cell_type": "code",
   "execution_count": 9,
   "metadata": {},
   "outputs": [
    {
     "output_type": "execute_result",
     "data": {
      "text/plain": [
       "'m'"
      ]
     },
     "metadata": {},
     "execution_count": 9
    }
   ],
   "source": [
    "flower[-1]"
   ]
  },
  {
   "cell_type": "code",
   "execution_count": 10,
   "metadata": {},
   "outputs": [
    {
     "output_type": "execute_result",
     "data": {
      "text/plain": [
       "'d'"
      ]
     },
     "metadata": {},
     "execution_count": 10
    }
   ],
   "source": [
    "name[6]"
   ]
  },
  {
   "cell_type": "code",
   "execution_count": 11,
   "metadata": {},
   "outputs": [
    {
     "output_type": "execute_result",
     "data": {
      "text/plain": [
       "'h'"
      ]
     },
     "metadata": {},
     "execution_count": 11
    }
   ],
   "source": [
    "name[-6]"
   ]
  },
  {
   "cell_type": "code",
   "execution_count": 15,
   "metadata": {},
   "outputs": [
    {
     "output_type": "execute_result",
     "data": {
      "text/plain": [
       "'h'"
      ]
     },
     "metadata": {},
     "execution_count": 15
    }
   ],
   "source": [
    "quote[19]"
   ]
  },
  {
   "cell_type": "code",
   "execution_count": 16,
   "metadata": {},
   "outputs": [
    {
     "output_type": "execute_result",
     "data": {
      "text/plain": [
       "'b'"
      ]
     },
     "metadata": {},
     "execution_count": 16
    }
   ],
   "source": [
    "quote[-18]"
   ]
  },
  {
   "source": [
    "## slicing\n",
    "- string[startidx:stopidx] => get substring from start till stop-1\n",
    "- string[startidx:stopidx:gap] => get substring from start till stop-1,with gap\n",
    "- string[:stopidx] => get substring beginning till stop-1\n",
    "- string[startidx:] => get substring from start till length of string"
   ],
   "cell_type": "markdown",
   "metadata": {}
  },
  {
   "cell_type": "code",
   "execution_count": 19,
   "metadata": {},
   "outputs": [
    {
     "output_type": "execute_result",
     "data": {
      "text/plain": [
       "'chrys'"
      ]
     },
     "metadata": {},
     "execution_count": 19
    }
   ],
   "source": [
    "flower[:5]"
   ]
  },
  {
   "cell_type": "code",
   "execution_count": 20,
   "metadata": {},
   "outputs": [
    {
     "output_type": "execute_result",
     "data": {
      "text/plain": [
       "'mum'"
      ]
     },
     "metadata": {},
     "execution_count": 20
    }
   ],
   "source": [
    "flower[-3:]"
   ]
  },
  {
   "cell_type": "code",
   "execution_count": 21,
   "metadata": {},
   "outputs": [
    {
     "output_type": "execute_result",
     "data": {
      "text/plain": [
       "'nthemum'"
      ]
     },
     "metadata": {},
     "execution_count": 21
    }
   ],
   "source": [
    "flower[6:]"
   ]
  },
  {
   "cell_type": "code",
   "execution_count": 22,
   "metadata": {},
   "outputs": [
    {
     "output_type": "execute_result",
     "data": {
      "text/plain": [
       "'emum'"
      ]
     },
     "metadata": {},
     "execution_count": 22
    }
   ],
   "source": [
    "flower[-4:]"
   ]
  },
  {
   "cell_type": "code",
   "execution_count": 23,
   "metadata": {},
   "outputs": [
    {
     "output_type": "execute_result",
     "data": {
      "text/plain": [
       "'chrysanth'"
      ]
     },
     "metadata": {},
     "execution_count": 23
    }
   ],
   "source": [
    "flower[:-4]"
   ]
  },
  {
   "cell_type": "code",
   "execution_count": 24,
   "metadata": {},
   "outputs": [
    {
     "output_type": "execute_result",
     "data": {
      "text/plain": [
       "'a'"
      ]
     },
     "metadata": {},
     "execution_count": 24
    }
   ],
   "source": [
    "flower[5:6]"
   ]
  },
  {
   "cell_type": "code",
   "execution_count": 25,
   "metadata": {},
   "outputs": [
    {
     "output_type": "execute_result",
     "data": {
      "text/plain": [
       "'an'"
      ]
     },
     "metadata": {},
     "execution_count": 25
    }
   ],
   "source": [
    "flower[5:7]"
   ]
  },
  {
   "cell_type": "code",
   "execution_count": 26,
   "metadata": {},
   "outputs": [
    {
     "output_type": "stream",
     "name": "stdout",
     "text": [
      "0 v\n1 i\n2 j\n3 a\n4 y\n5  \n6 d\n7 i\n8 n\n9 a\n10 n\n11 a\n12 t\n13 h\n14  \n15 c\n16 h\n17 a\n18 u\n19 h\n20 a\n21 n\n"
     ]
    }
   ],
   "source": [
    "for i,v in enumerate(name):\n",
    "    print(i,v)"
   ]
  },
  {
   "cell_type": "code",
   "execution_count": 27,
   "metadata": {},
   "outputs": [
    {
     "output_type": "execute_result",
     "data": {
      "text/plain": [
       "'the'"
      ]
     },
     "metadata": {},
     "execution_count": 27
    }
   ],
   "source": [
    "flower[-6:-3]"
   ]
  },
  {
   "cell_type": "code",
   "execution_count": 28,
   "metadata": {},
   "outputs": [
    {
     "output_type": "execute_result",
     "data": {
      "text/plain": [
       "'v nca'"
      ]
     },
     "metadata": {},
     "execution_count": 28
    }
   ],
   "source": [
    "name[0:22:5]"
   ]
  },
  {
   "cell_type": "code",
   "execution_count": 29,
   "metadata": {},
   "outputs": [
    {
     "output_type": "execute_result",
     "data": {
      "text/plain": [
       "'vijay'"
      ]
     },
     "metadata": {},
     "execution_count": 29
    }
   ],
   "source": [
    "name[0:5]"
   ]
  },
  {
   "cell_type": "code",
   "execution_count": 30,
   "metadata": {},
   "outputs": [
    {
     "output_type": "execute_result",
     "data": {
      "text/plain": [
       "'dinanath '"
      ]
     },
     "metadata": {},
     "execution_count": 30
    }
   ],
   "source": [
    "name[6:15]"
   ]
  },
  {
   "cell_type": "code",
   "execution_count": 31,
   "metadata": {},
   "outputs": [
    {
     "output_type": "execute_result",
     "data": {
      "text/plain": [
       "'chauha'"
      ]
     },
     "metadata": {},
     "execution_count": 31
    }
   ],
   "source": [
    "name[15:21]"
   ]
  },
  {
   "cell_type": "code",
   "execution_count": 33,
   "metadata": {},
   "outputs": [
    {
     "output_type": "execute_result",
     "data": {
      "text/plain": [
       "'chauhan'"
      ]
     },
     "metadata": {},
     "execution_count": 33
    }
   ],
   "source": [
    "name[15:22]"
   ]
  },
  {
   "cell_type": "code",
   "execution_count": 34,
   "metadata": {},
   "outputs": [
    {
     "output_type": "execute_result",
     "data": {
      "text/plain": [
       "40"
      ]
     },
     "metadata": {},
     "execution_count": 34
    }
   ],
   "source": [
    "quote.find('journey')"
   ]
  },
  {
   "cell_type": "code",
   "execution_count": 35,
   "metadata": {},
   "outputs": [
    {
     "output_type": "execute_result",
     "data": {
      "text/plain": [
       "'journey before destination'"
      ]
     },
     "metadata": {},
     "execution_count": 35
    }
   ],
   "source": [
    "quote[40:]"
   ]
  },
  {
   "source": [
    "# functions in string"
   ],
   "cell_type": "markdown",
   "metadata": {}
  },
  {
   "cell_type": "code",
   "execution_count": 2,
   "metadata": {},
   "outputs": [],
   "source": [
    "sentence = 'I went to Vijaywada to haVE a Holiday.'"
   ]
  },
  {
   "cell_type": "code",
   "execution_count": 3,
   "metadata": {},
   "outputs": [
    {
     "output_type": "execute_result",
     "data": {
      "text/plain": [
       "'I WENT TO VIJAYWADA TO HAVE A HOLIDAY.'"
      ]
     },
     "metadata": {},
     "execution_count": 3
    }
   ],
   "source": [
    "sentence.upper()"
   ]
  },
  {
   "cell_type": "code",
   "execution_count": 4,
   "metadata": {},
   "outputs": [],
   "source": [
    "senu = sentence.upper()"
   ]
  },
  {
   "cell_type": "code",
   "execution_count": null,
   "metadata": {},
   "outputs": [],
   "source": [
    "sen1 = sentence.lower()"
   ]
  },
  {
   "cell_type": "code",
   "execution_count": null,
   "metadata": {},
   "outputs": [],
   "source": [
    "senc = sentence.capitalize()\n",
    "sent = sentence.title() "
   ]
  },
  {
   "cell_type": "code",
   "execution_count": 9,
   "metadata": {},
   "outputs": [
    {
     "output_type": "execute_result",
     "data": {
      "text/plain": [
       "'i went to vijaywada to have a holiday.'"
      ]
     },
     "metadata": {},
     "execution_count": 9
    }
   ],
   "source": [
    "sentence.casefold()"
   ]
  },
  {
   "cell_type": "code",
   "execution_count": 10,
   "metadata": {},
   "outputs": [
    {
     "output_type": "execute_result",
     "data": {
      "text/plain": [
       "'i WENT TO vIJAYWADA TO HAve A hOLIDAY.'"
      ]
     },
     "metadata": {},
     "execution_count": 10
    }
   ],
   "source": [
    "sentence.swapcase()"
   ]
  },
  {
   "cell_type": "code",
   "execution_count": 11,
   "metadata": {},
   "outputs": [],
   "source": [
    "word = 'Solid'"
   ]
  },
  {
   "cell_type": "code",
   "execution_count": 12,
   "metadata": {},
   "outputs": [
    {
     "output_type": "execute_result",
     "data": {
      "text/plain": [
       "'Solid'"
      ]
     },
     "metadata": {},
     "execution_count": 12
    }
   ],
   "source": [
    "word"
   ]
  },
  {
   "cell_type": "code",
   "execution_count": 13,
   "metadata": {},
   "outputs": [
    {
     "output_type": "execute_result",
     "data": {
      "text/plain": [
       "'                                             Solid'"
      ]
     },
     "metadata": {},
     "execution_count": 13
    }
   ],
   "source": [
    "word.rjust(50)"
   ]
  },
  {
   "cell_type": "code",
   "execution_count": 15,
   "metadata": {},
   "outputs": [
    {
     "output_type": "execute_result",
     "data": {
      "text/plain": [
       "'Solid                                             '"
      ]
     },
     "metadata": {},
     "execution_count": 15
    }
   ],
   "source": [
    "word.ljust(50)"
   ]
  },
  {
   "cell_type": "code",
   "execution_count": 17,
   "metadata": {},
   "outputs": [
    {
     "output_type": "execute_result",
     "data": {
      "text/plain": [
       "'         Solid          '"
      ]
     },
     "metadata": {},
     "execution_count": 17
    }
   ],
   "source": [
    "word.center(24)"
   ]
  },
  {
   "cell_type": "code",
   "execution_count": null,
   "metadata": {},
   "outputs": [],
   "source": []
  }
 ]
}